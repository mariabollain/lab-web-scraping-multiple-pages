{
 "cells": [
  {
   "cell_type": "markdown",
   "id": "c620ef77",
   "metadata": {},
   "source": [
    "# Lab 1 | Web Scraping Single Page"
   ]
  },
  {
   "cell_type": "markdown",
   "id": "a55222bd",
   "metadata": {},
   "source": [
    "## Instructions - Scraping popular songs\n",
    "Your product will take a song as an input from the user and will output another song (the recommendation). In most cases, the recommended song will have to be similar to the inputted song, but the CTO thinks that if the song is on the top charts at the moment, the user will enjoy more a recommendation of a song that's also popular at the moment. <br>\n",
    "<br>\n",
    "You have find data on the internet about currently popular songs. Billboard maintains a weekly Top 100 of \"hot\" songs here: https://www.billboard.com/charts/hot-100.<br>\n",
    "<br>\n",
    "It's a good place to start! Scrape the current top 100 songs and their respective artists, and put the information into a pandas dataframe."
   ]
  },
  {
   "cell_type": "code",
   "execution_count": 1,
   "id": "412ca052",
   "metadata": {},
   "outputs": [],
   "source": [
    "from bs4 import BeautifulSoup\n",
    "import requests\n",
    "import pandas as pd\n",
    "import re"
   ]
  },
  {
   "cell_type": "code",
   "execution_count": 2,
   "id": "a3c48567",
   "metadata": {},
   "outputs": [
    {
     "data": {
      "text/plain": [
       "200"
      ]
     },
     "execution_count": 2,
     "metadata": {},
     "output_type": "execute_result"
    }
   ],
   "source": [
    "url = \"https://www.billboard.com/charts/hot-100\"\n",
    "response = requests.get(url)\n",
    "response.status_code"
   ]
  },
  {
   "cell_type": "code",
   "execution_count": 3,
   "id": "eaac644e",
   "metadata": {},
   "outputs": [],
   "source": [
    "soup = BeautifulSoup(response.content, \"html.parser\")\n",
    "# print(soup.prettify())"
   ]
  },
  {
   "cell_type": "code",
   "execution_count": 4,
   "id": "89eea0ce",
   "metadata": {},
   "outputs": [],
   "source": [
    "# soup.find_all(\"div\", attrs={\"class\": \"o-chart-results-list-row-container\"}) "
   ]
  },
  {
   "cell_type": "code",
   "execution_count": 5,
   "id": "41588471",
   "metadata": {},
   "outputs": [
    {
     "data": {
      "text/plain": [
       "[<h3 class=\"c-title a-no-trucate a-font-primary-bold-s u-letter-spacing-0021 u-font-size-23@tablet lrv-u-font-size-16 u-line-height-125 u-line-height-normal@mobile-max a-truncate-ellipsis u-max-width-245 u-max-width-230@tablet-only u-letter-spacing-0028@tablet\" id=\"title-of-a-story\">\n",
       " \n",
       " \t\n",
       " \t\n",
       " \t\t\n",
       " \t\t\t\t\tLast Night\t\t\n",
       " \t\n",
       " </h3>]"
      ]
     },
     "execution_count": 5,
     "metadata": {},
     "output_type": "execute_result"
    }
   ],
   "source": [
    "# The first song in the list has a different format than the rest\n",
    "\n",
    "cls = \"c-title a-no-trucate a-font-primary-bold-s u-letter-spacing-0021 u-font-size-23@tablet \" \\\n",
    "      \"lrv-u-font-size-16 u-line-height-125 u-line-height-normal@mobile-max a-truncate-ellipsis \" \\\n",
    "      \"u-max-width-245 u-max-width-230@tablet-only u-letter-spacing-0028@tablet\"\n",
    "\n",
    "soup.find_all(\"h3\", attrs={\"class\": cls}) "
   ]
  },
  {
   "cell_type": "code",
   "execution_count": 6,
   "id": "72fccd63",
   "metadata": {},
   "outputs": [
    {
     "data": {
      "text/plain": [
       "['\\n\\n\\t\\n\\t\\n\\t\\t\\n\\t\\t\\t\\t\\tLast Night\\t\\t\\n\\t\\n']"
      ]
     },
     "execution_count": 6,
     "metadata": {},
     "output_type": "execute_result"
    }
   ],
   "source": [
    "titles = [soup.find(\"h3\", attrs={\"class\": cls}).get_text()]\n",
    "titles"
   ]
  },
  {
   "cell_type": "code",
   "execution_count": 7,
   "id": "f84ce75f",
   "metadata": {},
   "outputs": [],
   "source": [
    "# Rest of the song titles\n",
    "\n",
    "cls = \"c-title a-no-trucate a-font-primary-bold-s u-letter-spacing-0021 lrv-u-font-size-18@tablet \" \\\n",
    "      \"lrv-u-font-size-16 u-line-height-125 u-line-height-normal@mobile-max a-truncate-ellipsis \" \\\n",
    "      \"u-max-width-330 u-max-width-230@tablet-only\"\n",
    "\n",
    "# soup.find_all(\"h3\", attrs={\"class\": cls}) "
   ]
  },
  {
   "cell_type": "code",
   "execution_count": 8,
   "id": "ad1016e5",
   "metadata": {},
   "outputs": [],
   "source": [
    "num_iter = len(soup.find_all(\"h3\", attrs={\"class\": cls}))\n",
    "\n",
    "for i in range(num_iter):\n",
    "    titles.append(soup.find_all(\"h3\", attrs={\"class\": cls})[i].get_text())\n",
    "\n",
    "# titles"
   ]
  },
  {
   "cell_type": "code",
   "execution_count": 9,
   "id": "d7c389d8",
   "metadata": {},
   "outputs": [],
   "source": [
    "# Remove extra characters \n",
    "\n",
    "titles = titles[:100]\n",
    "\n",
    "titles = [re.sub(r'[\\r\\n\\t]', '', x) for x in titles]\n",
    "# titles "
   ]
  },
  {
   "cell_type": "code",
   "execution_count": 10,
   "id": "90f693cc",
   "metadata": {},
   "outputs": [
    {
     "data": {
      "text/plain": [
       "100"
      ]
     },
     "execution_count": 10,
     "metadata": {},
     "output_type": "execute_result"
    }
   ],
   "source": [
    "len(titles)"
   ]
  },
  {
   "cell_type": "code",
   "execution_count": 11,
   "id": "deba0c8d",
   "metadata": {},
   "outputs": [
    {
     "data": {
      "text/plain": [
       "[<span class=\"c-label a-no-trucate a-font-primary-s lrv-u-font-size-14@mobile-max u-line-height-normal@mobile-max u-letter-spacing-0021 lrv-u-display-block a-truncate-ellipsis-2line u-max-width-330 u-max-width-230@tablet-only u-font-size-20@tablet\">\n",
       " \t\n",
       " \tMorgan Wallen\n",
       " </span>]"
      ]
     },
     "execution_count": 11,
     "metadata": {},
     "output_type": "execute_result"
    }
   ],
   "source": [
    "# First artist\n",
    "\n",
    "cls = \"c-label a-no-trucate a-font-primary-s lrv-u-font-size-14@mobile-max u-line-height-normal@mobile-max \" \\\n",
    "      \"u-letter-spacing-0021 lrv-u-display-block a-truncate-ellipsis-2line u-max-width-330 \" \\\n",
    "      \"u-max-width-230@tablet-only u-font-size-20@tablet\"\n",
    "\n",
    "soup.find_all(\"span\", attrs={\"class\": cls}) "
   ]
  },
  {
   "cell_type": "code",
   "execution_count": 12,
   "id": "10f65222",
   "metadata": {},
   "outputs": [
    {
     "data": {
      "text/plain": [
       "['\\n\\t\\n\\tMorgan Wallen\\n']"
      ]
     },
     "execution_count": 12,
     "metadata": {},
     "output_type": "execute_result"
    }
   ],
   "source": [
    "artists = [soup.find(\"span\", attrs={\"class\": cls}) .get_text()]\n",
    "artists"
   ]
  },
  {
   "cell_type": "code",
   "execution_count": 13,
   "id": "8ca36878",
   "metadata": {},
   "outputs": [],
   "source": [
    "# Rest of the artists\n",
    "\n",
    "cls = \"c-label a-no-trucate a-font-primary-s lrv-u-font-size-14@mobile-max u-line-height-normal@mobile-max u-letter-spacing-0021 lrv-u-display-block a-truncate-ellipsis-2line u-max-width-330 u-max-width-230@tablet-only\"\n",
    "\n",
    "num_iter = len(soup.find_all(\"span\", attrs={\"class\": cls}))\n",
    "\n",
    "for i in range(num_iter):\n",
    "    artists.append(soup.find_all(\"span\", attrs={\"class\": cls})[i].get_text())"
   ]
  },
  {
   "cell_type": "code",
   "execution_count": 14,
   "id": "d5246e1d",
   "metadata": {},
   "outputs": [],
   "source": [
    "# Remove extra characters \n",
    "\n",
    "artists = [re.sub(r'[\\r\\n\\t]', '', x) for x in artists]\n",
    "# artists "
   ]
  },
  {
   "cell_type": "code",
   "execution_count": 15,
   "id": "0406f8f0",
   "metadata": {},
   "outputs": [
    {
     "data": {
      "text/plain": [
       "100"
      ]
     },
     "execution_count": 15,
     "metadata": {},
     "output_type": "execute_result"
    }
   ],
   "source": [
    "len(artists)"
   ]
  },
  {
   "cell_type": "code",
   "execution_count": 16,
   "id": "62108dbc",
   "metadata": {},
   "outputs": [
    {
     "data": {
      "text/html": [
       "<div>\n",
       "<style scoped>\n",
       "    .dataframe tbody tr th:only-of-type {\n",
       "        vertical-align: middle;\n",
       "    }\n",
       "\n",
       "    .dataframe tbody tr th {\n",
       "        vertical-align: top;\n",
       "    }\n",
       "\n",
       "    .dataframe thead th {\n",
       "        text-align: right;\n",
       "    }\n",
       "</style>\n",
       "<table border=\"1\" class=\"dataframe\">\n",
       "  <thead>\n",
       "    <tr style=\"text-align: right;\">\n",
       "      <th></th>\n",
       "      <th>artist</th>\n",
       "      <th>title</th>\n",
       "    </tr>\n",
       "  </thead>\n",
       "  <tbody>\n",
       "    <tr>\n",
       "      <th>0</th>\n",
       "      <td>Morgan Wallen</td>\n",
       "      <td>Last Night</td>\n",
       "    </tr>\n",
       "    <tr>\n",
       "      <th>1</th>\n",
       "      <td>Miley Cyrus</td>\n",
       "      <td>Flowers</td>\n",
       "    </tr>\n",
       "    <tr>\n",
       "      <th>2</th>\n",
       "      <td>Luke Combs</td>\n",
       "      <td>Fast Car</td>\n",
       "    </tr>\n",
       "    <tr>\n",
       "      <th>3</th>\n",
       "      <td>Rema &amp; Selena Gomez</td>\n",
       "      <td>Calm Down</td>\n",
       "    </tr>\n",
       "    <tr>\n",
       "      <th>4</th>\n",
       "      <td>Lil Durk Featuring J. Cole</td>\n",
       "      <td>All My Life</td>\n",
       "    </tr>\n",
       "    <tr>\n",
       "      <th>...</th>\n",
       "      <td>...</td>\n",
       "      <td>...</td>\n",
       "    </tr>\n",
       "    <tr>\n",
       "      <th>95</th>\n",
       "      <td>Jelly Roll With Lainey Wilson</td>\n",
       "      <td>Save Me</td>\n",
       "    </tr>\n",
       "    <tr>\n",
       "      <th>96</th>\n",
       "      <td>Yandel &amp; Feid</td>\n",
       "      <td>Yandel 150</td>\n",
       "    </tr>\n",
       "    <tr>\n",
       "      <th>97</th>\n",
       "      <td>Rosalia &amp; Rauw Alejandro</td>\n",
       "      <td>Beso</td>\n",
       "    </tr>\n",
       "    <tr>\n",
       "      <th>98</th>\n",
       "      <td>Morgan Wallen</td>\n",
       "      <td>I Wrote The Book</td>\n",
       "    </tr>\n",
       "    <tr>\n",
       "      <th>99</th>\n",
       "      <td>Metro Boomin &amp; James Blake</td>\n",
       "      <td>Hummingbird</td>\n",
       "    </tr>\n",
       "  </tbody>\n",
       "</table>\n",
       "<p>100 rows × 2 columns</p>\n",
       "</div>"
      ],
      "text/plain": [
       "                           artist             title\n",
       "0                   Morgan Wallen        Last Night\n",
       "1                     Miley Cyrus           Flowers\n",
       "2                      Luke Combs          Fast Car\n",
       "3             Rema & Selena Gomez         Calm Down\n",
       "4      Lil Durk Featuring J. Cole       All My Life\n",
       "..                            ...               ...\n",
       "95  Jelly Roll With Lainey Wilson           Save Me\n",
       "96                  Yandel & Feid        Yandel 150\n",
       "97       Rosalia & Rauw Alejandro              Beso\n",
       "98                  Morgan Wallen  I Wrote The Book\n",
       "99     Metro Boomin & James Blake       Hummingbird\n",
       "\n",
       "[100 rows x 2 columns]"
      ]
     },
     "execution_count": 16,
     "metadata": {},
     "output_type": "execute_result"
    }
   ],
   "source": [
    "# Create dataframe\n",
    "\n",
    "billboard = pd.DataFrame({\"artist\": artists, \"title\": titles})\n",
    "billboard"
   ]
  },
  {
   "cell_type": "markdown",
   "id": "cdfbf285",
   "metadata": {},
   "source": [
    "# Lab 2 | Web Scraping Multiple Pages."
   ]
  },
  {
   "cell_type": "markdown",
   "id": "e955fd8e",
   "metadata": {},
   "source": [
    "## Instructions\n",
    "**Expand the project**<br>\n",
    "If you're done, you can try to expand the project on your own. Here are a few suggestions:\n",
    "\n",
    "- Find other lists of hot songs on the internet and scrape them too: having a bigger pool of songs will be awesome!\n",
    "- Apply the same logic to other \"groups\" of songs: the best songs from a decade or from a country / culture / language / genre.\n",
    "- Wikipedia maintains a large collection of lists of songs: https://en.wikipedia.org/wiki/Lists_of_songs"
   ]
  },
  {
   "cell_type": "markdown",
   "id": "af693e16",
   "metadata": {},
   "source": [
    "### Rolling stone: 100 best songs of 2022\n",
    "https://www.rollingstone.com/music/music-lists/best-songs-2022-list-1234632381/lainey-wilson-heart-like-a-truck-1234632707/"
   ]
  },
  {
   "cell_type": "code",
   "execution_count": 17,
   "id": "fce7e63a",
   "metadata": {},
   "outputs": [
    {
     "data": {
      "text/plain": [
       "200"
      ]
     },
     "execution_count": 17,
     "metadata": {},
     "output_type": "execute_result"
    }
   ],
   "source": [
    "url = \"https://www.rollingstone.com/music/music-lists/best-songs-2022-list-1234632381/lainey-wilson-heart-like-a-truck-1234632707/\"\n",
    "response = requests.get(url)\n",
    "response.status_code"
   ]
  },
  {
   "cell_type": "code",
   "execution_count": 18,
   "id": "2ebf23fc",
   "metadata": {},
   "outputs": [],
   "source": [
    "soup = BeautifulSoup(response.content, \"html.parser\")"
   ]
  },
  {
   "cell_type": "code",
   "execution_count": 19,
   "id": "d8a5f06a",
   "metadata": {},
   "outputs": [
    {
     "data": {
      "text/plain": [
       "['Lainey Wilson, ‘Heart Like a Truck’',\n",
       " 'Chronixx, ‘Never Give Up’',\n",
       " 'Plains, ‘Problem With It’',\n",
       " 'Hurray for the Riff Raff, ‘Saga’',\n",
       " 'Camilo ft. Grupo Firme, ‘Alaska’',\n",
       " 'Ingrid Andress, ‘Yearbook’',\n",
       " 'Jack Harlow, ‘First Class’',\n",
       " 'Psy feat. Suga, ‘That That’',\n",
       " 'Dead Cross, ‘Reign of Error’',\n",
       " 'Ethel Cain, ‘American Teenager’',\n",
       " 'Gladie, ‘Nothing’',\n",
       " 'Guided by Voices, ‘Alex Bell’',\n",
       " '(G)I-dle, ‘Nxde’',\n",
       " 'The Weeknd, ‘Take My Breath’',\n",
       " 'Nayeon, ‘Pop!’',\n",
       " 'Bill Callahan, ‘Coyotes’',\n",
       " 'Protoje feat. Lila Iké, ‘Late at Night’',\n",
       " 'Blood Orange, ‘Jesus Freak Lighter’',\n",
       " 'Camila Cabello feat. Maria Becerra, ‘Hasta Los Dientes’',\n",
       " 'Charli XCX and Tiësto, ‘Hot in It’',\n",
       " 'Daddy Yankee and Bad Bunny, ‘X Ultima Vez’',\n",
       " 'The 1975, ‘Part of the Band’',\n",
       " 'Rauw Alejandro and Baby Rasta, ‘Punto 40’',\n",
       " 'Florence + the Machine, ‘Choreomania’',\n",
       " 'Saba feat. Day Wave, ‘2012’',\n",
       " 'Le Sserafim, ‘Antifragile’',\n",
       " 'Alvvays, ‘Pomeranian Spinster’',\n",
       " 'Big Bang, ‘Still Life’',\n",
       " 'Yeah Yeah Yeahs, ‘Blacktop’',\n",
       " 'NCT 127, ‘2 Baddies’',\n",
       " 'Guitarricadelafuente, ‘Mil Y Una Noches’',\n",
       " 'Meghan Trainor, ‘Made You Look’',\n",
       " 'Jin, ‘The Astronaut’',\n",
       " 'Maren Morris, “Circles Around This Town”',\n",
       " 'Residente, ‘This Is Not America’',\n",
       " 'Aespa, ‘Girls’',\n",
       " 'Fontaines D.C., ‘Jackie Down The Line’',\n",
       " 'Joyce Wrice and Kaytranada, ‘Iced Tea’',\n",
       " 'U.S. Girls, ‘So Typically Now’',\n",
       " 'Marina, ‘Pink Convertible’',\n",
       " 'Sabrina Carpenter, ‘Because I Liked a Boy’',\n",
       " 'Taylor Swift, ‘Would’ve Could’ve Should’ve’',\n",
       " 'Gorillaz ft. Thundercat, ‘Cracker Island’',\n",
       " 'Flo Milli, ‘Conceited’',\n",
       " 'Stray Kids, ‘Maniac’',\n",
       " 'Pillbox Patti, ‘Eat Pray Drugs’',\n",
       " 'King Princess, ‘Let Us Die’',\n",
       " 'IVE, ‘After Like’',\n",
       " 'Syd feat. Smino, ‘Right Track’',\n",
       " 'Soul Glo, ‘Coming Correct Is Cheaper’']"
      ]
     },
     "execution_count": 19,
     "metadata": {},
     "output_type": "execute_result"
    }
   ],
   "source": [
    "rolling_stone_songs = []\n",
    "\n",
    "for a in soup.find_all(\"article\", attrs={\"class\": \"pmc-fallback-list-item\"}):\n",
    "    rolling_stone_songs.append(a.find(\"h2\").get_text())\n",
    "    \n",
    "rolling_stone_songs"
   ]
  },
  {
   "cell_type": "markdown",
   "id": "bf2b44e7",
   "metadata": {},
   "source": [
    "These are the first 50 songs, now we will get the next 50 in the same way."
   ]
  },
  {
   "cell_type": "code",
   "execution_count": 20,
   "id": "2c2c2b10",
   "metadata": {},
   "outputs": [
    {
     "data": {
      "text/plain": [
       "200"
      ]
     },
     "execution_count": 20,
     "metadata": {},
     "output_type": "execute_result"
    }
   ],
   "source": [
    "url = \"https://www.rollingstone.com/music/music-lists/best-songs-2022-list-1234632381/bad-bunny-ft-bomba-estereo-ojitos-lindos-1234632596/\"\n",
    "response = requests.get(url)\n",
    "response.status_code"
   ]
  },
  {
   "cell_type": "code",
   "execution_count": 21,
   "id": "7f6d5a2e",
   "metadata": {},
   "outputs": [],
   "source": [
    "soup = BeautifulSoup(response.content, \"html.parser\")"
   ]
  },
  {
   "cell_type": "code",
   "execution_count": 22,
   "id": "63e61e12",
   "metadata": {},
   "outputs": [
    {
     "data": {
      "text/plain": [
       "['Lainey Wilson, ‘Heart Like a Truck’',\n",
       " 'Chronixx, ‘Never Give Up’',\n",
       " 'Plains, ‘Problem With It’',\n",
       " 'Hurray for the Riff Raff, ‘Saga’',\n",
       " 'Camilo ft. Grupo Firme, ‘Alaska’',\n",
       " 'Ingrid Andress, ‘Yearbook’',\n",
       " 'Jack Harlow, ‘First Class’',\n",
       " 'Psy feat. Suga, ‘That That’',\n",
       " 'Dead Cross, ‘Reign of Error’',\n",
       " 'Ethel Cain, ‘American Teenager’',\n",
       " 'Gladie, ‘Nothing’',\n",
       " 'Guided by Voices, ‘Alex Bell’',\n",
       " '(G)I-dle, ‘Nxde’',\n",
       " 'The Weeknd, ‘Take My Breath’',\n",
       " 'Nayeon, ‘Pop!’',\n",
       " 'Bill Callahan, ‘Coyotes’',\n",
       " 'Protoje feat. Lila Iké, ‘Late at Night’',\n",
       " 'Blood Orange, ‘Jesus Freak Lighter’',\n",
       " 'Camila Cabello feat. Maria Becerra, ‘Hasta Los Dientes’',\n",
       " 'Charli XCX and Tiësto, ‘Hot in It’',\n",
       " 'Daddy Yankee and Bad Bunny, ‘X Ultima Vez’',\n",
       " 'The 1975, ‘Part of the Band’',\n",
       " 'Rauw Alejandro and Baby Rasta, ‘Punto 40’',\n",
       " 'Florence + the Machine, ‘Choreomania’',\n",
       " 'Saba feat. Day Wave, ‘2012’',\n",
       " 'Le Sserafim, ‘Antifragile’',\n",
       " 'Alvvays, ‘Pomeranian Spinster’',\n",
       " 'Big Bang, ‘Still Life’',\n",
       " 'Yeah Yeah Yeahs, ‘Blacktop’',\n",
       " 'NCT 127, ‘2 Baddies’',\n",
       " 'Guitarricadelafuente, ‘Mil Y Una Noches’',\n",
       " 'Meghan Trainor, ‘Made You Look’',\n",
       " 'Jin, ‘The Astronaut’',\n",
       " 'Maren Morris, “Circles Around This Town”',\n",
       " 'Residente, ‘This Is Not America’',\n",
       " 'Aespa, ‘Girls’',\n",
       " 'Fontaines D.C., ‘Jackie Down The Line’',\n",
       " 'Joyce Wrice and Kaytranada, ‘Iced Tea’',\n",
       " 'U.S. Girls, ‘So Typically Now’',\n",
       " 'Marina, ‘Pink Convertible’',\n",
       " 'Sabrina Carpenter, ‘Because I Liked a Boy’',\n",
       " 'Taylor Swift, ‘Would’ve Could’ve Should’ve’',\n",
       " 'Gorillaz ft. Thundercat, ‘Cracker Island’',\n",
       " 'Flo Milli, ‘Conceited’',\n",
       " 'Stray Kids, ‘Maniac’',\n",
       " 'Pillbox Patti, ‘Eat Pray Drugs’',\n",
       " 'King Princess, ‘Let Us Die’',\n",
       " 'IVE, ‘After Like’',\n",
       " 'Syd feat. Smino, ‘Right Track’',\n",
       " 'Soul Glo, ‘Coming Correct Is Cheaper’',\n",
       " 'Bad Bunny feat. Bomba Estereo, ‘Ojitos Lindos’',\n",
       " 'Sky Ferreira, ‘Don’t Forget’',\n",
       " 'Rema, ‘Calm Down’',\n",
       " 'Gunna, ‘Banking on Me’',\n",
       " 'King Von and 21 Savage, ‘Don’t Play That’',\n",
       " 'Marshmello and Tokischa, ‘Estilazo’',\n",
       " 'Kaitlin Butts, ‘What Else Can She Do’',\n",
       " 'Pheelz and BNXN, ‘Finesse’',\n",
       " 'Lizzo, ‘About Damn Time’',\n",
       " 'GloRilla feat. Cardi B, ‘Tomorrow 2’',\n",
       " 'FKA Twigs feat. Shygirl, ‘Papi Bones’',\n",
       " 'Smino feat. J. Cole, ‘90 Proof’',\n",
       " 'Seventeen, ‘Hot’',\n",
       " 'Wizkid, ‘Bad to Me’',\n",
       " 'Alex G, ‘Runner’',\n",
       " 'Blackpink, “Pink Venom”',\n",
       " 'Ozzy Osbourne, ‘No Escape From Now’',\n",
       " 'Karol G and Becky G, ‘Mamiii’',\n",
       " 'Jelly Roll, “Son of a Sinner”',\n",
       " 'Oxlade, ‘Ku Lo Sa — A Colors Show’',\n",
       " 'Earl Sweatshirt, ‘2010’',\n",
       " 'Omar Apollo, ‘Evergreen’',\n",
       " 'Muna, ‘Home By Now’',\n",
       " 'Asake feat. Burna Boy, ‘Sungba (Remix)’',\n",
       " 'Midland, ‘The Last Resort’',\n",
       " 'Sam Smith and Kim Petras, ‘Unholy’',\n",
       " 'NewJeans, ‘Hype Boy’',\n",
       " 'Carly Rae Jepsen & Rufus Wainwright, ‘The Loneliest Time’',\n",
       " 'Villano Antillano, ‘BZRP Music Sessions #51’',\n",
       " 'Zach Bryan, ‘Something in the Orange’',\n",
       " 'Noah Cyrus, ‘I Burned L.A. Down’',\n",
       " 'Megan Thee Stallion, ‘Plan B’',\n",
       " 'Ashley McBryde, Caylee Hammack, Brandy Clark, and Pillbox Patti, ‘Bonfire at Tina’s’',\n",
       " 'Doechii & SZA, ‘Persuasive’',\n",
       " 'Burna Boy, ‘Last Last’',\n",
       " 'Rina Sawayama, ‘This Hell’',\n",
       " 'Ice Spice, ‘Munch (Feelin U)’',\n",
       " 'Pusha T, ‘Dreamin’ of the Past’',\n",
       " 'Yahritza Y Su Esencia, ‘Soy El Unico’',\n",
       " 'Kendrick Lamar, ‘N95’',\n",
       " 'Drake feat. 21 Savage, ‘Jimmy Cooks’',\n",
       " 'Harry Styles, ‘As It Was’',\n",
       " 'Beyonce, ‘Break My Soul’',\n",
       " 'Pharrell feat. 21 Savage and Tyler, The Creator, ‘Cash In Cash Out’',\n",
       " 'Quavo and Takeoff, ‘Hotel Lobby’',\n",
       " 'Rosalia, ‘Despecha’',\n",
       " 'Taylor Swift, ‘Karma’',\n",
       " 'Steve Lacy, ‘Bad Habit’',\n",
       " 'Beyonce, ‘Cuff It’',\n",
       " 'Bad Bunny, ‘Titi Me Preguntó’']"
      ]
     },
     "execution_count": 22,
     "metadata": {},
     "output_type": "execute_result"
    }
   ],
   "source": [
    "for a in soup.find_all(\"article\", attrs={\"class\": \"pmc-fallback-list-item\"}):\n",
    "    rolling_stone_songs.append(a.find(\"h2\").get_text())\n",
    "    \n",
    "rolling_stone_songs"
   ]
  },
  {
   "cell_type": "code",
   "execution_count": 23,
   "id": "cf7ef076",
   "metadata": {},
   "outputs": [
    {
     "data": {
      "text/plain": [
       "100"
      ]
     },
     "execution_count": 23,
     "metadata": {},
     "output_type": "execute_result"
    }
   ],
   "source": [
    "len(rolling_stone_songs)"
   ]
  },
  {
   "cell_type": "code",
   "execution_count": 24,
   "id": "2443f406",
   "metadata": {},
   "outputs": [
    {
     "data": {
      "text/html": [
       "<div>\n",
       "<style scoped>\n",
       "    .dataframe tbody tr th:only-of-type {\n",
       "        vertical-align: middle;\n",
       "    }\n",
       "\n",
       "    .dataframe tbody tr th {\n",
       "        vertical-align: top;\n",
       "    }\n",
       "\n",
       "    .dataframe thead th {\n",
       "        text-align: right;\n",
       "    }\n",
       "</style>\n",
       "<table border=\"1\" class=\"dataframe\">\n",
       "  <thead>\n",
       "    <tr style=\"text-align: right;\">\n",
       "      <th></th>\n",
       "      <th>song</th>\n",
       "    </tr>\n",
       "  </thead>\n",
       "  <tbody>\n",
       "    <tr>\n",
       "      <th>0</th>\n",
       "      <td>Lainey Wilson, ‘Heart Like a Truck’</td>\n",
       "    </tr>\n",
       "    <tr>\n",
       "      <th>1</th>\n",
       "      <td>Chronixx, ‘Never Give Up’</td>\n",
       "    </tr>\n",
       "    <tr>\n",
       "      <th>2</th>\n",
       "      <td>Plains, ‘Problem With It’</td>\n",
       "    </tr>\n",
       "    <tr>\n",
       "      <th>3</th>\n",
       "      <td>Hurray for the Riff Raff, ‘Saga’</td>\n",
       "    </tr>\n",
       "    <tr>\n",
       "      <th>4</th>\n",
       "      <td>Camilo ft. Grupo Firme, ‘Alaska’</td>\n",
       "    </tr>\n",
       "    <tr>\n",
       "      <th>...</th>\n",
       "      <td>...</td>\n",
       "    </tr>\n",
       "    <tr>\n",
       "      <th>95</th>\n",
       "      <td>Rosalia, ‘Despecha’</td>\n",
       "    </tr>\n",
       "    <tr>\n",
       "      <th>96</th>\n",
       "      <td>Taylor Swift, ‘Karma’</td>\n",
       "    </tr>\n",
       "    <tr>\n",
       "      <th>97</th>\n",
       "      <td>Steve Lacy, ‘Bad Habit’</td>\n",
       "    </tr>\n",
       "    <tr>\n",
       "      <th>98</th>\n",
       "      <td>Beyonce, ‘Cuff It’</td>\n",
       "    </tr>\n",
       "    <tr>\n",
       "      <th>99</th>\n",
       "      <td>Bad Bunny, ‘Titi Me Preguntó’</td>\n",
       "    </tr>\n",
       "  </tbody>\n",
       "</table>\n",
       "<p>100 rows × 1 columns</p>\n",
       "</div>"
      ],
      "text/plain": [
       "                                   song\n",
       "0   Lainey Wilson, ‘Heart Like a Truck’\n",
       "1             Chronixx, ‘Never Give Up’\n",
       "2             Plains, ‘Problem With It’\n",
       "3      Hurray for the Riff Raff, ‘Saga’\n",
       "4      Camilo ft. Grupo Firme, ‘Alaska’\n",
       "..                                  ...\n",
       "95                  Rosalia, ‘Despecha’\n",
       "96                Taylor Swift, ‘Karma’\n",
       "97              Steve Lacy, ‘Bad Habit’\n",
       "98                   Beyonce, ‘Cuff It’\n",
       "99        Bad Bunny, ‘Titi Me Preguntó’\n",
       "\n",
       "[100 rows x 1 columns]"
      ]
     },
     "execution_count": 24,
     "metadata": {},
     "output_type": "execute_result"
    }
   ],
   "source": [
    "# Create a dataframe from the list\n",
    "\n",
    "rolling_stone = pd.DataFrame({\"song\": rolling_stone_songs})\n",
    "rolling_stone"
   ]
  },
  {
   "cell_type": "code",
   "execution_count": 25,
   "id": "6316bc48",
   "metadata": {},
   "outputs": [
    {
     "data": {
      "text/html": [
       "<div>\n",
       "<style scoped>\n",
       "    .dataframe tbody tr th:only-of-type {\n",
       "        vertical-align: middle;\n",
       "    }\n",
       "\n",
       "    .dataframe tbody tr th {\n",
       "        vertical-align: top;\n",
       "    }\n",
       "\n",
       "    .dataframe thead th {\n",
       "        text-align: right;\n",
       "    }\n",
       "</style>\n",
       "<table border=\"1\" class=\"dataframe\">\n",
       "  <thead>\n",
       "    <tr style=\"text-align: right;\">\n",
       "      <th></th>\n",
       "      <th>artist</th>\n",
       "      <th>title</th>\n",
       "    </tr>\n",
       "  </thead>\n",
       "  <tbody>\n",
       "    <tr>\n",
       "      <th>0</th>\n",
       "      <td>Lainey Wilson</td>\n",
       "      <td>‘Heart Like a Truck’</td>\n",
       "    </tr>\n",
       "    <tr>\n",
       "      <th>1</th>\n",
       "      <td>Chronixx</td>\n",
       "      <td>‘Never Give Up’</td>\n",
       "    </tr>\n",
       "    <tr>\n",
       "      <th>2</th>\n",
       "      <td>Plains</td>\n",
       "      <td>‘Problem With It’</td>\n",
       "    </tr>\n",
       "    <tr>\n",
       "      <th>3</th>\n",
       "      <td>Hurray for the Riff Raff</td>\n",
       "      <td>‘Saga’</td>\n",
       "    </tr>\n",
       "    <tr>\n",
       "      <th>4</th>\n",
       "      <td>Camilo ft. Grupo Firme</td>\n",
       "      <td>‘Alaska’</td>\n",
       "    </tr>\n",
       "    <tr>\n",
       "      <th>...</th>\n",
       "      <td>...</td>\n",
       "      <td>...</td>\n",
       "    </tr>\n",
       "    <tr>\n",
       "      <th>95</th>\n",
       "      <td>Rosalia</td>\n",
       "      <td>‘Despecha’</td>\n",
       "    </tr>\n",
       "    <tr>\n",
       "      <th>96</th>\n",
       "      <td>Taylor Swift</td>\n",
       "      <td>‘Karma’</td>\n",
       "    </tr>\n",
       "    <tr>\n",
       "      <th>97</th>\n",
       "      <td>Steve Lacy</td>\n",
       "      <td>‘Bad Habit’</td>\n",
       "    </tr>\n",
       "    <tr>\n",
       "      <th>98</th>\n",
       "      <td>Beyonce</td>\n",
       "      <td>‘Cuff It’</td>\n",
       "    </tr>\n",
       "    <tr>\n",
       "      <th>99</th>\n",
       "      <td>Bad Bunny</td>\n",
       "      <td>‘Titi Me Preguntó’</td>\n",
       "    </tr>\n",
       "  </tbody>\n",
       "</table>\n",
       "<p>100 rows × 2 columns</p>\n",
       "</div>"
      ],
      "text/plain": [
       "                      artist                  title\n",
       "0              Lainey Wilson   ‘Heart Like a Truck’\n",
       "1                   Chronixx        ‘Never Give Up’\n",
       "2                     Plains      ‘Problem With It’\n",
       "3   Hurray for the Riff Raff                 ‘Saga’\n",
       "4     Camilo ft. Grupo Firme               ‘Alaska’\n",
       "..                       ...                    ...\n",
       "95                   Rosalia             ‘Despecha’\n",
       "96              Taylor Swift                ‘Karma’\n",
       "97                Steve Lacy            ‘Bad Habit’\n",
       "98                   Beyonce              ‘Cuff It’\n",
       "99                 Bad Bunny     ‘Titi Me Preguntó’\n",
       "\n",
       "[100 rows x 2 columns]"
      ]
     },
     "execution_count": 25,
     "metadata": {},
     "output_type": "execute_result"
    }
   ],
   "source": [
    "# Split artist and title\n",
    "\n",
    "rolling_stone = rolling_stone['song'].str.split(\",\", n=1, expand=True)\n",
    "rolling_stone.columns = [\"artist\", \"title\"]\n",
    "rolling_stone"
   ]
  },
  {
   "cell_type": "code",
   "execution_count": 26,
   "id": "ef15a341",
   "metadata": {},
   "outputs": [
    {
     "data": {
      "text/plain": [
       "' ‘Heart Like a Truck’'"
      ]
     },
     "execution_count": 26,
     "metadata": {},
     "output_type": "execute_result"
    }
   ],
   "source": [
    "rolling_stone[\"title\"][0]"
   ]
  },
  {
   "cell_type": "code",
   "execution_count": 27,
   "id": "3f278b28",
   "metadata": {},
   "outputs": [
    {
     "data": {
      "text/html": [
       "<div>\n",
       "<style scoped>\n",
       "    .dataframe tbody tr th:only-of-type {\n",
       "        vertical-align: middle;\n",
       "    }\n",
       "\n",
       "    .dataframe tbody tr th {\n",
       "        vertical-align: top;\n",
       "    }\n",
       "\n",
       "    .dataframe thead th {\n",
       "        text-align: right;\n",
       "    }\n",
       "</style>\n",
       "<table border=\"1\" class=\"dataframe\">\n",
       "  <thead>\n",
       "    <tr style=\"text-align: right;\">\n",
       "      <th></th>\n",
       "      <th>artist</th>\n",
       "      <th>title</th>\n",
       "    </tr>\n",
       "  </thead>\n",
       "  <tbody>\n",
       "    <tr>\n",
       "      <th>0</th>\n",
       "      <td>Lainey Wilson</td>\n",
       "      <td>Heart Like a Truck</td>\n",
       "    </tr>\n",
       "    <tr>\n",
       "      <th>1</th>\n",
       "      <td>Chronixx</td>\n",
       "      <td>Never Give Up</td>\n",
       "    </tr>\n",
       "    <tr>\n",
       "      <th>2</th>\n",
       "      <td>Plains</td>\n",
       "      <td>Problem With It</td>\n",
       "    </tr>\n",
       "    <tr>\n",
       "      <th>3</th>\n",
       "      <td>Hurray for the Riff Raff</td>\n",
       "      <td>Saga</td>\n",
       "    </tr>\n",
       "    <tr>\n",
       "      <th>4</th>\n",
       "      <td>Camilo ft. Grupo Firme</td>\n",
       "      <td>Alaska</td>\n",
       "    </tr>\n",
       "    <tr>\n",
       "      <th>...</th>\n",
       "      <td>...</td>\n",
       "      <td>...</td>\n",
       "    </tr>\n",
       "    <tr>\n",
       "      <th>95</th>\n",
       "      <td>Rosalia</td>\n",
       "      <td>Despecha</td>\n",
       "    </tr>\n",
       "    <tr>\n",
       "      <th>96</th>\n",
       "      <td>Taylor Swift</td>\n",
       "      <td>Karma</td>\n",
       "    </tr>\n",
       "    <tr>\n",
       "      <th>97</th>\n",
       "      <td>Steve Lacy</td>\n",
       "      <td>Bad Habit</td>\n",
       "    </tr>\n",
       "    <tr>\n",
       "      <th>98</th>\n",
       "      <td>Beyonce</td>\n",
       "      <td>Cuff It</td>\n",
       "    </tr>\n",
       "    <tr>\n",
       "      <th>99</th>\n",
       "      <td>Bad Bunny</td>\n",
       "      <td>Titi Me Preguntó</td>\n",
       "    </tr>\n",
       "  </tbody>\n",
       "</table>\n",
       "<p>100 rows × 2 columns</p>\n",
       "</div>"
      ],
      "text/plain": [
       "                      artist               title\n",
       "0              Lainey Wilson  Heart Like a Truck\n",
       "1                   Chronixx       Never Give Up\n",
       "2                     Plains     Problem With It\n",
       "3   Hurray for the Riff Raff                Saga\n",
       "4     Camilo ft. Grupo Firme              Alaska\n",
       "..                       ...                 ...\n",
       "95                   Rosalia            Despecha\n",
       "96              Taylor Swift               Karma\n",
       "97                Steve Lacy           Bad Habit\n",
       "98                   Beyonce             Cuff It\n",
       "99                 Bad Bunny    Titi Me Preguntó\n",
       "\n",
       "[100 rows x 2 columns]"
      ]
     },
     "execution_count": 27,
     "metadata": {},
     "output_type": "execute_result"
    }
   ],
   "source": [
    "# Remove initial blank space and quotation marks\n",
    "\n",
    "rolling_stone[\"title\"] = rolling_stone[\"title\"].str.strip(\" ‘’\")\n",
    "rolling_stone"
   ]
  },
  {
   "cell_type": "code",
   "execution_count": 28,
   "id": "ea018f98",
   "metadata": {},
   "outputs": [
    {
     "data": {
      "text/plain": [
       "'Heart Like a Truck'"
      ]
     },
     "execution_count": 28,
     "metadata": {},
     "output_type": "execute_result"
    }
   ],
   "source": [
    "rolling_stone[\"title\"][0]"
   ]
  },
  {
   "cell_type": "markdown",
   "id": "7e98732d",
   "metadata": {},
   "source": [
    "### NPR: 100 best songs of 2021\n",
    "https://www.npr.org/2021/12/02/1054377950/the-100-best-songs-of-2021-page-1 <br>\n",
    "This list is divided in multiple pages (5). We will start by webscrapping one of the pages and then create a loop to scrape all of them."
   ]
  },
  {
   "cell_type": "code",
   "execution_count": 29,
   "id": "da2d0094",
   "metadata": {},
   "outputs": [
    {
     "data": {
      "text/plain": [
       "200"
      ]
     },
     "execution_count": 29,
     "metadata": {},
     "output_type": "execute_result"
    }
   ],
   "source": [
    "url = \"https://www.npr.org/2021/12/02/1054380365/the-100-best-songs-of-2021-page-5\"\n",
    "response = requests.get(url)\n",
    "response.status_code"
   ]
  },
  {
   "cell_type": "code",
   "execution_count": 30,
   "id": "83da197d",
   "metadata": {},
   "outputs": [],
   "source": [
    "soup = BeautifulSoup(response.content, \"html.parser\")"
   ]
  },
  {
   "cell_type": "code",
   "execution_count": 31,
   "id": "18bcd7e6",
   "metadata": {},
   "outputs": [
    {
     "data": {
      "text/plain": [
       "['Olivia Rodrigo',\n",
       " '\"deja vu\" ',\n",
       " 'Emily Scott Robinson',\n",
       " '\"Let \\'em Burn\" ',\n",
       " 'Mdou Moctar',\n",
       " '\"Afrique Victime\" ',\n",
       " 'Mitski',\n",
       " '\"Working for the Knife\" ',\n",
       " 'Lucky Daye (feat. Yebba)',\n",
       " '\"How Much Can A Heart Take\" ',\n",
       " 'Remi Wolf',\n",
       " '\"Grumpy Old Man\" ',\n",
       " 'Noname',\n",
       " '\"Rainforest\" ',\n",
       " 'Sun-EL Musician (feat. Simmy)',\n",
       " '\"Higher\"',\n",
       " 'Baby Keem (feat. Kendrick Lamar)',\n",
       " '\"range brothers\" ',\n",
       " 'Brandee Younger',\n",
       " '\"Reclamation\"',\n",
       " 'Brandi Carlile',\n",
       " '\"Broken Horses\" ',\n",
       " 'Olivia Rodrigo',\n",
       " '\"good 4 u\" ',\n",
       " 'Chlöe',\n",
       " '\"Have Mercy\" ',\n",
       " 'Rauw Alejandro',\n",
       " '\"Todo de Ti\" ',\n",
       " 'Cassandra Jenkins',\n",
       " '\"Hard Drive\" ',\n",
       " 'Sharon Van Etten & Angel Olsen',\n",
       " '\"Like I Used To\" ',\n",
       " 'Megan Thee Stallion',\n",
       " '\"Thot S***\" ',\n",
       " 'Lucy Dacus',\n",
       " '\"Thumbs\" ',\n",
       " 'Wet Leg',\n",
       " '\"Chaise Longue\" ',\n",
       " 'Lil Nas X',\n",
       " '\"MONTERO (Call Me By Your Name)\" ',\n",
       " '< Previous']"
      ]
     },
     "execution_count": 31,
     "metadata": {},
     "output_type": "execute_result"
    }
   ],
   "source": [
    "npr_songs = []\n",
    "\n",
    "for a in soup.find_all(\"h3\", attrs={\"class\": \"edTag\"}):\n",
    "    npr_songs.append(a.get_text())\n",
    "\n",
    "npr_songs"
   ]
  },
  {
   "cell_type": "code",
   "execution_count": 32,
   "id": "b0b905a4",
   "metadata": {},
   "outputs": [
    {
     "data": {
      "text/plain": [
       "['Olivia Rodrigo',\n",
       " '\"deja vu\" ',\n",
       " 'Emily Scott Robinson',\n",
       " '\"Let \\'em Burn\" ',\n",
       " 'Mdou Moctar',\n",
       " '\"Afrique Victime\" ',\n",
       " 'Mitski',\n",
       " '\"Working for the Knife\" ',\n",
       " 'Lucky Daye (feat. Yebba)',\n",
       " '\"How Much Can A Heart Take\" ',\n",
       " 'Remi Wolf',\n",
       " '\"Grumpy Old Man\" ',\n",
       " 'Noname',\n",
       " '\"Rainforest\" ',\n",
       " 'Sun-EL Musician (feat. Simmy)',\n",
       " '\"Higher\"',\n",
       " 'Baby Keem (feat. Kendrick Lamar)',\n",
       " '\"range brothers\" ',\n",
       " 'Brandee Younger',\n",
       " '\"Reclamation\"',\n",
       " 'Brandi Carlile',\n",
       " '\"Broken Horses\" ',\n",
       " 'Olivia Rodrigo',\n",
       " '\"good 4 u\" ',\n",
       " 'Chlöe',\n",
       " '\"Have Mercy\" ',\n",
       " 'Rauw Alejandro',\n",
       " '\"Todo de Ti\" ',\n",
       " 'Cassandra Jenkins',\n",
       " '\"Hard Drive\" ',\n",
       " 'Sharon Van Etten & Angel Olsen',\n",
       " '\"Like I Used To\" ',\n",
       " 'Megan Thee Stallion',\n",
       " '\"Thot S***\" ',\n",
       " 'Lucy Dacus',\n",
       " '\"Thumbs\" ',\n",
       " 'Wet Leg',\n",
       " '\"Chaise Longue\" ',\n",
       " 'Lil Nas X',\n",
       " '\"MONTERO (Call Me By Your Name)\" ']"
      ]
     },
     "execution_count": 32,
     "metadata": {},
     "output_type": "execute_result"
    }
   ],
   "source": [
    "# Remove the last element since it's not a song (it's the link to the previous page)\n",
    "\n",
    "npr_songs.pop()\n",
    "npr_songs"
   ]
  },
  {
   "cell_type": "code",
   "execution_count": 33,
   "id": "9ba104b9",
   "metadata": {},
   "outputs": [
    {
     "data": {
      "text/plain": [
       "['Olivia Rodrigo',\n",
       " 'Emily Scott Robinson',\n",
       " 'Mdou Moctar',\n",
       " 'Mitski',\n",
       " 'Lucky Daye (feat. Yebba)',\n",
       " 'Remi Wolf',\n",
       " 'Noname',\n",
       " 'Sun-EL Musician (feat. Simmy)',\n",
       " 'Baby Keem (feat. Kendrick Lamar)',\n",
       " 'Brandee Younger',\n",
       " 'Brandi Carlile',\n",
       " 'Olivia Rodrigo',\n",
       " 'Chlöe',\n",
       " 'Rauw Alejandro',\n",
       " 'Cassandra Jenkins',\n",
       " 'Sharon Van Etten & Angel Olsen',\n",
       " 'Megan Thee Stallion',\n",
       " 'Lucy Dacus',\n",
       " 'Wet Leg',\n",
       " 'Lil Nas X']"
      ]
     },
     "execution_count": 33,
     "metadata": {},
     "output_type": "execute_result"
    }
   ],
   "source": [
    "# Take only the artists (uneven elements of the list)\n",
    "\n",
    "artists = []\n",
    "i = 0\n",
    "\n",
    "while i < len(npr_songs):\n",
    "    artists.append(npr_songs[i])\n",
    "    i += 2\n",
    "\n",
    "artists  "
   ]
  },
  {
   "cell_type": "code",
   "execution_count": 34,
   "id": "d472e53f",
   "metadata": {},
   "outputs": [
    {
     "data": {
      "text/plain": [
       "['\"deja vu\" ',\n",
       " '\"Let \\'em Burn\" ',\n",
       " '\"Afrique Victime\" ',\n",
       " '\"Working for the Knife\" ',\n",
       " '\"How Much Can A Heart Take\" ',\n",
       " '\"Grumpy Old Man\" ',\n",
       " '\"Rainforest\" ',\n",
       " '\"Higher\"',\n",
       " '\"range brothers\" ',\n",
       " '\"Reclamation\"',\n",
       " '\"Broken Horses\" ',\n",
       " '\"good 4 u\" ',\n",
       " '\"Have Mercy\" ',\n",
       " '\"Todo de Ti\" ',\n",
       " '\"Hard Drive\" ',\n",
       " '\"Like I Used To\" ',\n",
       " '\"Thot S***\" ',\n",
       " '\"Thumbs\" ',\n",
       " '\"Chaise Longue\" ',\n",
       " '\"MONTERO (Call Me By Your Name)\" ']"
      ]
     },
     "execution_count": 34,
     "metadata": {},
     "output_type": "execute_result"
    }
   ],
   "source": [
    "# Take only the titles (even elements of the list)\n",
    "\n",
    "titles = []\n",
    "i = 1\n",
    "\n",
    "while i < len(npr_songs):\n",
    "    titles.append(npr_songs[i])\n",
    "    i += 2\n",
    "\n",
    "titles    "
   ]
  },
  {
   "cell_type": "markdown",
   "id": "068b86db",
   "metadata": {},
   "source": [
    "Now that we have successfully obtained the elements we wanted in one of the pages, let's create a foor loop for webscrapping the 5 pages."
   ]
  },
  {
   "cell_type": "code",
   "execution_count": 35,
   "id": "c619cb89",
   "metadata": {},
   "outputs": [],
   "source": [
    "# First, define a function for extracting the information\n",
    "\n",
    "def get_song_info(soup):\n",
    "    npr_songs = []\n",
    "    artists = []\n",
    "    titles = []\n",
    "\n",
    "    for a in soup.find_all(\"h3\", attrs={\"class\": \"edTag\"}):\n",
    "        npr_songs.append(a.get_text())\n",
    "\n",
    "    npr_songs.pop()\n",
    "    \n",
    "    i = 0\n",
    "    while i < len(npr_songs):\n",
    "        artists.append(npr_songs[i])\n",
    "        i += 2\n",
    "        \n",
    "    i = 1\n",
    "    while i < len(npr_songs):\n",
    "        titles.append(npr_songs[i])\n",
    "        i += 2\n",
    "        \n",
    "    dct = {\"artist\": artists, \"title\": titles}\n",
    "    \n",
    "    return dct"
   ]
  },
  {
   "cell_type": "code",
   "execution_count": 36,
   "id": "af2f7810",
   "metadata": {},
   "outputs": [
    {
     "data": {
      "text/html": [
       "<div>\n",
       "<style scoped>\n",
       "    .dataframe tbody tr th:only-of-type {\n",
       "        vertical-align: middle;\n",
       "    }\n",
       "\n",
       "    .dataframe tbody tr th {\n",
       "        vertical-align: top;\n",
       "    }\n",
       "\n",
       "    .dataframe thead th {\n",
       "        text-align: right;\n",
       "    }\n",
       "</style>\n",
       "<table border=\"1\" class=\"dataframe\">\n",
       "  <thead>\n",
       "    <tr style=\"text-align: right;\">\n",
       "      <th></th>\n",
       "      <th>artist</th>\n",
       "      <th>title</th>\n",
       "    </tr>\n",
       "  </thead>\n",
       "  <tbody>\n",
       "    <tr>\n",
       "      <th>0</th>\n",
       "      <td>Olivia Rodrigo</td>\n",
       "      <td>\"deja vu\"</td>\n",
       "    </tr>\n",
       "    <tr>\n",
       "      <th>1</th>\n",
       "      <td>Emily Scott Robinson</td>\n",
       "      <td>\"Let 'em Burn\"</td>\n",
       "    </tr>\n",
       "    <tr>\n",
       "      <th>2</th>\n",
       "      <td>Mdou Moctar</td>\n",
       "      <td>\"Afrique Victime\"</td>\n",
       "    </tr>\n",
       "    <tr>\n",
       "      <th>3</th>\n",
       "      <td>Mitski</td>\n",
       "      <td>\"Working for the Knife\"</td>\n",
       "    </tr>\n",
       "    <tr>\n",
       "      <th>4</th>\n",
       "      <td>Lucky Daye (feat. Yebba)</td>\n",
       "      <td>\"How Much Can A Heart Take\"</td>\n",
       "    </tr>\n",
       "    <tr>\n",
       "      <th>...</th>\n",
       "      <td>...</td>\n",
       "      <td>...</td>\n",
       "    </tr>\n",
       "    <tr>\n",
       "      <th>15</th>\n",
       "      <td>Sharon Van Etten &amp; Angel Olsen</td>\n",
       "      <td>\"Like I Used To\"</td>\n",
       "    </tr>\n",
       "    <tr>\n",
       "      <th>16</th>\n",
       "      <td>Megan Thee Stallion</td>\n",
       "      <td>\"Thot S***\"</td>\n",
       "    </tr>\n",
       "    <tr>\n",
       "      <th>17</th>\n",
       "      <td>Lucy Dacus</td>\n",
       "      <td>\"Thumbs\"</td>\n",
       "    </tr>\n",
       "    <tr>\n",
       "      <th>18</th>\n",
       "      <td>Wet Leg</td>\n",
       "      <td>\"Chaise Longue\"</td>\n",
       "    </tr>\n",
       "    <tr>\n",
       "      <th>19</th>\n",
       "      <td>Lil Nas X</td>\n",
       "      <td>\"MONTERO (Call Me By Your Name)\"</td>\n",
       "    </tr>\n",
       "  </tbody>\n",
       "</table>\n",
       "<p>100 rows × 2 columns</p>\n",
       "</div>"
      ],
      "text/plain": [
       "                            artist                              title\n",
       "0                   Olivia Rodrigo                         \"deja vu\" \n",
       "1             Emily Scott Robinson                    \"Let 'em Burn\" \n",
       "2                      Mdou Moctar                 \"Afrique Victime\" \n",
       "3                           Mitski           \"Working for the Knife\" \n",
       "4         Lucky Daye (feat. Yebba)       \"How Much Can A Heart Take\" \n",
       "..                             ...                                ...\n",
       "15  Sharon Van Etten & Angel Olsen                  \"Like I Used To\" \n",
       "16             Megan Thee Stallion                       \"Thot S***\" \n",
       "17                      Lucy Dacus                          \"Thumbs\" \n",
       "18                         Wet Leg                   \"Chaise Longue\" \n",
       "19                       Lil Nas X  \"MONTERO (Call Me By Your Name)\" \n",
       "\n",
       "[100 rows x 2 columns]"
      ]
     },
     "execution_count": 36,
     "metadata": {},
     "output_type": "execute_result"
    }
   ],
   "source": [
    "# Create loop to webscrap all pages\n",
    "\n",
    "npr = pd.DataFrame()\n",
    "\n",
    "for page in range(1, 6):\n",
    "    request = requests.get(f\"https://www.npr.org/2021/12/02/1054380365/the-100-best-songs-of-2021-page-{page}\")\n",
    "    soup = BeautifulSoup(request.content, 'html.parser')\n",
    "    info_dct = get_song_info(soup)\n",
    "    new_df = pd.DataFrame.from_dict(info_dct)\n",
    "    npr = pd.concat([npr, new_df])    \n",
    "    \n",
    "npr"
   ]
  },
  {
   "cell_type": "code",
   "execution_count": 37,
   "id": "e31681bc",
   "metadata": {},
   "outputs": [
    {
     "data": {
      "text/plain": [
       "200"
      ]
     },
     "execution_count": 37,
     "metadata": {},
     "output_type": "execute_result"
    }
   ],
   "source": [
    "# Remove quotation marks\n",
    "\n",
    "# Firts check that we can use replace, by counting number of quotation marks (should be 200)\n",
    "counting = npr[\"title\"].str.count('\"')\n",
    "counting.sum()"
   ]
  },
  {
   "cell_type": "code",
   "execution_count": 38,
   "id": "e74b5ff9",
   "metadata": {},
   "outputs": [
    {
     "data": {
      "text/html": [
       "<div>\n",
       "<style scoped>\n",
       "    .dataframe tbody tr th:only-of-type {\n",
       "        vertical-align: middle;\n",
       "    }\n",
       "\n",
       "    .dataframe tbody tr th {\n",
       "        vertical-align: top;\n",
       "    }\n",
       "\n",
       "    .dataframe thead th {\n",
       "        text-align: right;\n",
       "    }\n",
       "</style>\n",
       "<table border=\"1\" class=\"dataframe\">\n",
       "  <thead>\n",
       "    <tr style=\"text-align: right;\">\n",
       "      <th></th>\n",
       "      <th>artist</th>\n",
       "      <th>title</th>\n",
       "    </tr>\n",
       "  </thead>\n",
       "  <tbody>\n",
       "    <tr>\n",
       "      <th>0</th>\n",
       "      <td>Olivia Rodrigo</td>\n",
       "      <td>deja vu</td>\n",
       "    </tr>\n",
       "    <tr>\n",
       "      <th>1</th>\n",
       "      <td>Emily Scott Robinson</td>\n",
       "      <td>Let 'em Burn</td>\n",
       "    </tr>\n",
       "    <tr>\n",
       "      <th>2</th>\n",
       "      <td>Mdou Moctar</td>\n",
       "      <td>Afrique Victime</td>\n",
       "    </tr>\n",
       "    <tr>\n",
       "      <th>3</th>\n",
       "      <td>Mitski</td>\n",
       "      <td>Working for the Knife</td>\n",
       "    </tr>\n",
       "    <tr>\n",
       "      <th>4</th>\n",
       "      <td>Lucky Daye (feat. Yebba)</td>\n",
       "      <td>How Much Can A Heart Take</td>\n",
       "    </tr>\n",
       "    <tr>\n",
       "      <th>...</th>\n",
       "      <td>...</td>\n",
       "      <td>...</td>\n",
       "    </tr>\n",
       "    <tr>\n",
       "      <th>15</th>\n",
       "      <td>Sharon Van Etten &amp; Angel Olsen</td>\n",
       "      <td>Like I Used To</td>\n",
       "    </tr>\n",
       "    <tr>\n",
       "      <th>16</th>\n",
       "      <td>Megan Thee Stallion</td>\n",
       "      <td>Thot S***</td>\n",
       "    </tr>\n",
       "    <tr>\n",
       "      <th>17</th>\n",
       "      <td>Lucy Dacus</td>\n",
       "      <td>Thumbs</td>\n",
       "    </tr>\n",
       "    <tr>\n",
       "      <th>18</th>\n",
       "      <td>Wet Leg</td>\n",
       "      <td>Chaise Longue</td>\n",
       "    </tr>\n",
       "    <tr>\n",
       "      <th>19</th>\n",
       "      <td>Lil Nas X</td>\n",
       "      <td>MONTERO (Call Me By Your Name)</td>\n",
       "    </tr>\n",
       "  </tbody>\n",
       "</table>\n",
       "<p>100 rows × 2 columns</p>\n",
       "</div>"
      ],
      "text/plain": [
       "                            artist                            title\n",
       "0                   Olivia Rodrigo                         deja vu \n",
       "1             Emily Scott Robinson                    Let 'em Burn \n",
       "2                      Mdou Moctar                 Afrique Victime \n",
       "3                           Mitski           Working for the Knife \n",
       "4         Lucky Daye (feat. Yebba)       How Much Can A Heart Take \n",
       "..                             ...                              ...\n",
       "15  Sharon Van Etten & Angel Olsen                  Like I Used To \n",
       "16             Megan Thee Stallion                       Thot S*** \n",
       "17                      Lucy Dacus                          Thumbs \n",
       "18                         Wet Leg                   Chaise Longue \n",
       "19                       Lil Nas X  MONTERO (Call Me By Your Name) \n",
       "\n",
       "[100 rows x 2 columns]"
      ]
     },
     "execution_count": 38,
     "metadata": {},
     "output_type": "execute_result"
    }
   ],
   "source": [
    "# Now we can use replace knowing that we won't be replacing something that we don't want to \n",
    "\n",
    "npr[\"title\"] = npr[\"title\"].str.replace('\"', '')\n",
    "npr"
   ]
  },
  {
   "cell_type": "code",
   "execution_count": 39,
   "id": "2d73c4e6",
   "metadata": {},
   "outputs": [
    {
     "data": {
      "text/plain": [
       "True     80\n",
       "False    20\n",
       "dtype: int64"
      ]
     },
     "execution_count": 39,
     "metadata": {},
     "output_type": "execute_result"
    }
   ],
   "source": [
    "npr.duplicated().value_counts()"
   ]
  },
  {
   "cell_type": "code",
   "execution_count": 40,
   "id": "f2ebc24c",
   "metadata": {
    "scrolled": true
   },
   "outputs": [
    {
     "data": {
      "text/plain": [
       "['Olivia Rodrigo',\n",
       " '\"deja vu\" ',\n",
       " 'Emily Scott Robinson',\n",
       " '\"Let \\'em Burn\" ',\n",
       " 'Mdou Moctar',\n",
       " '\"Afrique Victime\" ',\n",
       " 'Mitski',\n",
       " '\"Working for the Knife\" ',\n",
       " 'Lucky Daye (feat. Yebba)',\n",
       " '\"How Much Can A Heart Take\" ',\n",
       " 'Remi Wolf',\n",
       " '\"Grumpy Old Man\" ',\n",
       " 'Noname',\n",
       " '\"Rainforest\" ',\n",
       " 'Sun-EL Musician (feat. Simmy)',\n",
       " '\"Higher\"',\n",
       " 'Baby Keem (feat. Kendrick Lamar)',\n",
       " '\"range brothers\" ',\n",
       " 'Brandee Younger',\n",
       " '\"Reclamation\"',\n",
       " 'Brandi Carlile',\n",
       " '\"Broken Horses\" ',\n",
       " 'Olivia Rodrigo',\n",
       " '\"good 4 u\" ',\n",
       " 'Chlöe',\n",
       " '\"Have Mercy\" ',\n",
       " 'Rauw Alejandro',\n",
       " '\"Todo de Ti\" ',\n",
       " 'Cassandra Jenkins',\n",
       " '\"Hard Drive\" ',\n",
       " 'Sharon Van Etten & Angel Olsen',\n",
       " '\"Like I Used To\" ',\n",
       " 'Megan Thee Stallion',\n",
       " '\"Thot S***\" ',\n",
       " 'Lucy Dacus',\n",
       " '\"Thumbs\" ',\n",
       " 'Wet Leg',\n",
       " '\"Chaise Longue\" ',\n",
       " 'Lil Nas X',\n",
       " '\"MONTERO (Call Me By Your Name)\" ',\n",
       " '< Previous']"
      ]
     },
     "execution_count": 40,
     "metadata": {},
     "output_type": "execute_result"
    }
   ],
   "source": [
    "# For some reason it is getting only the last page\n",
    "\n",
    "request = requests.get(\"https://www.npr.org/2021/12/02/1054380365/the-100-best-songs-of-2021-page-1\")\n",
    "soup = BeautifulSoup(request.content, 'html.parser')\n",
    "\n",
    "npr_songs = []\n",
    "for a in soup.find_all(\"h3\", attrs={\"class\": \"edTag\"}):\n",
    "    npr_songs.append(a.get_text())\n",
    "    \n",
    "npr_songs"
   ]
  },
  {
   "cell_type": "markdown",
   "id": "a0a1ab64",
   "metadata": {},
   "source": [
    "### The 200 Best Songs of the 1960s\n",
    "https://pitchfork.com/features/lists-and-guides/6405-the-200-greatest-songs-of-the-1960s/ <br>\n",
    "Try another one for multipages (this one has 10 pages)"
   ]
  },
  {
   "cell_type": "code",
   "execution_count": 41,
   "id": "59195eb2",
   "metadata": {},
   "outputs": [
    {
     "data": {
      "text/plain": [
       "['The Kinks',\n",
       " 'Nina Simone',\n",
       " 'Dionne Warwick',\n",
       " 'Charles Mingus',\n",
       " 'Irma Thomas',\n",
       " 'James Brown',\n",
       " 'The Foundations',\n",
       " 'Johnny and June Carter Cash',\n",
       " 'Alton Ellis',\n",
       " 'The Cannonball Adderley Quintet',\n",
       " 'Leonard Cohen',\n",
       " 'The Sonics',\n",
       " 'Tyrannosaurus Rex',\n",
       " 'The Walker Brothers',\n",
       " 'The Hollies',\n",
       " 'The Temptations',\n",
       " 'James Brown',\n",
       " 'Bobby Darin',\n",
       " 'Patsy Cline',\n",
       " 'France Gall']"
      ]
     },
     "execution_count": 41,
     "metadata": {},
     "output_type": "execute_result"
    }
   ],
   "source": [
    "request = requests.get(\"https://pitchfork.com/features/lists-and-guides/6405-the-200-greatest-songs-of-the-1960s/\")\n",
    "soup = BeautifulSoup(request.content, 'html.parser')\n",
    "\n",
    "artists = []\n",
    "for a in soup.find_all(\"ul\", attrs={\"class\": \"artist-list list-blurb__artists\"}):\n",
    "    artists.append(a.get_text())\n",
    "    \n",
    "artists"
   ]
  },
  {
   "cell_type": "code",
   "execution_count": 42,
   "id": "db85837c",
   "metadata": {},
   "outputs": [
    {
     "data": {
      "text/plain": [
       "['“Sunny Afternoon”',\n",
       " '“Black Is the Color of My True Love’s Hair”',\n",
       " '“Walk on By”',\n",
       " '“Solo Dancer”',\n",
       " '“Time Is on My Side”',\n",
       " '“Night Train (Live at the Apollo)”',\n",
       " '“Build Me Up Buttercup”',\n",
       " '“Jackson”',\n",
       " '“I’m Still in Love With You”',\n",
       " '“Mercy, Mercy, Mercy”',\n",
       " '“So Long, Marianne”',\n",
       " '“Strychnine”',\n",
       " '“Debora”',\n",
       " '“The Sun Ain’t Gonna Shine Anymore”',\n",
       " '“Bus Stop”',\n",
       " '“Get Ready”',\n",
       " '“Mother Popcorn (You Got to Have a Mother for Me)”',\n",
       " '“Beyond the Sea”',\n",
       " '“She’s Got You”',\n",
       " '“Laisse Tomber les Filles”']"
      ]
     },
     "execution_count": 42,
     "metadata": {},
     "output_type": "execute_result"
    }
   ],
   "source": [
    "titles = []\n",
    "for a in soup.find_all(\"h2\", attrs={\"class\": \"list-blurb__work-title\"}):\n",
    "    titles.append(a.get_text())\n",
    "    \n",
    "titles"
   ]
  },
  {
   "cell_type": "code",
   "execution_count": 43,
   "id": "9fdcab3f",
   "metadata": {},
   "outputs": [],
   "source": [
    "# First, define a function for extracting the information\n",
    "\n",
    "def get_song_info(soup):\n",
    "    artists = []\n",
    "    titles = []\n",
    "\n",
    "    for a in soup.find_all(\"ul\", attrs={\"class\": \"artist-list list-blurb__artists\"}):\n",
    "        artists.append(a.get_text())\n",
    "\n",
    "    for a in soup.find_all(\"h2\", attrs={\"class\": \"list-blurb__work-title\"}):\n",
    "        titles.append(a.get_text())\n",
    "        \n",
    "    dct = {\"artist\": artists, \"title\": titles}\n",
    "    \n",
    "    return dct"
   ]
  },
  {
   "cell_type": "code",
   "execution_count": 44,
   "id": "f5e48b3c",
   "metadata": {},
   "outputs": [
    {
     "data": {
      "text/html": [
       "<div>\n",
       "<style scoped>\n",
       "    .dataframe tbody tr th:only-of-type {\n",
       "        vertical-align: middle;\n",
       "    }\n",
       "\n",
       "    .dataframe tbody tr th {\n",
       "        vertical-align: top;\n",
       "    }\n",
       "\n",
       "    .dataframe thead th {\n",
       "        text-align: right;\n",
       "    }\n",
       "</style>\n",
       "<table border=\"1\" class=\"dataframe\">\n",
       "  <thead>\n",
       "    <tr style=\"text-align: right;\">\n",
       "      <th></th>\n",
       "      <th>artist</th>\n",
       "      <th>title</th>\n",
       "    </tr>\n",
       "  </thead>\n",
       "  <tbody>\n",
       "    <tr>\n",
       "      <th>0</th>\n",
       "      <td>The Kinks</td>\n",
       "      <td>“Sunny Afternoon”</td>\n",
       "    </tr>\n",
       "    <tr>\n",
       "      <th>1</th>\n",
       "      <td>Nina Simone</td>\n",
       "      <td>“Black Is the Color of My True Love’s Hair”</td>\n",
       "    </tr>\n",
       "    <tr>\n",
       "      <th>2</th>\n",
       "      <td>Dionne Warwick</td>\n",
       "      <td>“Walk on By”</td>\n",
       "    </tr>\n",
       "    <tr>\n",
       "      <th>3</th>\n",
       "      <td>Charles Mingus</td>\n",
       "      <td>“Solo Dancer”</td>\n",
       "    </tr>\n",
       "    <tr>\n",
       "      <th>4</th>\n",
       "      <td>Irma Thomas</td>\n",
       "      <td>“Time Is on My Side”</td>\n",
       "    </tr>\n",
       "    <tr>\n",
       "      <th>...</th>\n",
       "      <td>...</td>\n",
       "      <td>...</td>\n",
       "    </tr>\n",
       "    <tr>\n",
       "      <th>15</th>\n",
       "      <td>The Beatles</td>\n",
       "      <td>“A Day in the Life”</td>\n",
       "    </tr>\n",
       "    <tr>\n",
       "      <th>16</th>\n",
       "      <td>Bob Dylan</td>\n",
       "      <td>“Like a Rolling Stone”</td>\n",
       "    </tr>\n",
       "    <tr>\n",
       "      <th>17</th>\n",
       "      <td>Sam Cooke</td>\n",
       "      <td>“A Change Is Gonna Come”</td>\n",
       "    </tr>\n",
       "    <tr>\n",
       "      <th>18</th>\n",
       "      <td>The Jackson 5</td>\n",
       "      <td>“I Want You Back”</td>\n",
       "    </tr>\n",
       "    <tr>\n",
       "      <th>19</th>\n",
       "      <td>The Beach Boys</td>\n",
       "      <td>“God Only Knows”</td>\n",
       "    </tr>\n",
       "  </tbody>\n",
       "</table>\n",
       "<p>200 rows × 2 columns</p>\n",
       "</div>"
      ],
      "text/plain": [
       "            artist                                        title\n",
       "0        The Kinks                            “Sunny Afternoon”\n",
       "1      Nina Simone  “Black Is the Color of My True Love’s Hair”\n",
       "2   Dionne Warwick                                 “Walk on By”\n",
       "3   Charles Mingus                                “Solo Dancer”\n",
       "4      Irma Thomas                         “Time Is on My Side”\n",
       "..             ...                                          ...\n",
       "15     The Beatles                          “A Day in the Life”\n",
       "16       Bob Dylan                       “Like a Rolling Stone”\n",
       "17       Sam Cooke                     “A Change Is Gonna Come”\n",
       "18   The Jackson 5                            “I Want You Back”\n",
       "19  The Beach Boys                             “God Only Knows”\n",
       "\n",
       "[200 rows x 2 columns]"
      ]
     },
     "execution_count": 44,
     "metadata": {},
     "output_type": "execute_result"
    }
   ],
   "source": [
    "# Create loop to webscrap all pages\n",
    "\n",
    "sixties = pd.DataFrame()\n",
    "\n",
    "for page in range(1, 11):\n",
    "    request = requests.get(f\"https://pitchfork.com/features/lists-and-guides/6405-the-200-greatest-songs-of-the-1960s/?page={page}\")\n",
    "    soup = BeautifulSoup(request.content, 'html.parser')\n",
    "    info_dct = get_song_info(soup)\n",
    "    new_df = pd.DataFrame.from_dict(info_dct)\n",
    "    sixties = pd.concat([sixties, new_df])    \n",
    "    \n",
    "sixties"
   ]
  },
  {
   "cell_type": "code",
   "execution_count": 45,
   "id": "4ce22d7c",
   "metadata": {},
   "outputs": [
    {
     "data": {
      "text/html": [
       "<div>\n",
       "<style scoped>\n",
       "    .dataframe tbody tr th:only-of-type {\n",
       "        vertical-align: middle;\n",
       "    }\n",
       "\n",
       "    .dataframe tbody tr th {\n",
       "        vertical-align: top;\n",
       "    }\n",
       "\n",
       "    .dataframe thead th {\n",
       "        text-align: right;\n",
       "    }\n",
       "</style>\n",
       "<table border=\"1\" class=\"dataframe\">\n",
       "  <thead>\n",
       "    <tr style=\"text-align: right;\">\n",
       "      <th></th>\n",
       "      <th>artist</th>\n",
       "      <th>title</th>\n",
       "    </tr>\n",
       "  </thead>\n",
       "  <tbody>\n",
       "    <tr>\n",
       "      <th>0</th>\n",
       "      <td>The Kinks</td>\n",
       "      <td>Sunny Afternoon</td>\n",
       "    </tr>\n",
       "    <tr>\n",
       "      <th>1</th>\n",
       "      <td>Nina Simone</td>\n",
       "      <td>Black Is the Color of My True Love’s Hair</td>\n",
       "    </tr>\n",
       "    <tr>\n",
       "      <th>2</th>\n",
       "      <td>Dionne Warwick</td>\n",
       "      <td>Walk on By</td>\n",
       "    </tr>\n",
       "    <tr>\n",
       "      <th>3</th>\n",
       "      <td>Charles Mingus</td>\n",
       "      <td>Solo Dancer</td>\n",
       "    </tr>\n",
       "    <tr>\n",
       "      <th>4</th>\n",
       "      <td>Irma Thomas</td>\n",
       "      <td>Time Is on My Side</td>\n",
       "    </tr>\n",
       "    <tr>\n",
       "      <th>...</th>\n",
       "      <td>...</td>\n",
       "      <td>...</td>\n",
       "    </tr>\n",
       "    <tr>\n",
       "      <th>15</th>\n",
       "      <td>The Beatles</td>\n",
       "      <td>A Day in the Life</td>\n",
       "    </tr>\n",
       "    <tr>\n",
       "      <th>16</th>\n",
       "      <td>Bob Dylan</td>\n",
       "      <td>Like a Rolling Stone</td>\n",
       "    </tr>\n",
       "    <tr>\n",
       "      <th>17</th>\n",
       "      <td>Sam Cooke</td>\n",
       "      <td>A Change Is Gonna Come</td>\n",
       "    </tr>\n",
       "    <tr>\n",
       "      <th>18</th>\n",
       "      <td>The Jackson 5</td>\n",
       "      <td>I Want You Back</td>\n",
       "    </tr>\n",
       "    <tr>\n",
       "      <th>19</th>\n",
       "      <td>The Beach Boys</td>\n",
       "      <td>God Only Knows</td>\n",
       "    </tr>\n",
       "  </tbody>\n",
       "</table>\n",
       "<p>200 rows × 2 columns</p>\n",
       "</div>"
      ],
      "text/plain": [
       "            artist                                      title\n",
       "0        The Kinks                            Sunny Afternoon\n",
       "1      Nina Simone  Black Is the Color of My True Love’s Hair\n",
       "2   Dionne Warwick                                 Walk on By\n",
       "3   Charles Mingus                                Solo Dancer\n",
       "4      Irma Thomas                         Time Is on My Side\n",
       "..             ...                                        ...\n",
       "15     The Beatles                          A Day in the Life\n",
       "16       Bob Dylan                       Like a Rolling Stone\n",
       "17       Sam Cooke                     A Change Is Gonna Come\n",
       "18   The Jackson 5                            I Want You Back\n",
       "19  The Beach Boys                             God Only Knows\n",
       "\n",
       "[200 rows x 2 columns]"
      ]
     },
     "execution_count": 45,
     "metadata": {},
     "output_type": "execute_result"
    }
   ],
   "source": [
    "# Removing quotation marks\n",
    "\n",
    "sixties[\"title\"] = sixties[\"title\"].str.strip(\"“”\")\n",
    "sixties"
   ]
  },
  {
   "cell_type": "markdown",
   "id": "32e31170",
   "metadata": {},
   "source": [
    "### Join dataframes"
   ]
  },
  {
   "cell_type": "code",
   "execution_count": 46,
   "id": "6e0bd2dd",
   "metadata": {},
   "outputs": [
    {
     "data": {
      "text/html": [
       "<div>\n",
       "<style scoped>\n",
       "    .dataframe tbody tr th:only-of-type {\n",
       "        vertical-align: middle;\n",
       "    }\n",
       "\n",
       "    .dataframe tbody tr th {\n",
       "        vertical-align: top;\n",
       "    }\n",
       "\n",
       "    .dataframe thead th {\n",
       "        text-align: right;\n",
       "    }\n",
       "</style>\n",
       "<table border=\"1\" class=\"dataframe\">\n",
       "  <thead>\n",
       "    <tr style=\"text-align: right;\">\n",
       "      <th></th>\n",
       "      <th>artist</th>\n",
       "      <th>title</th>\n",
       "    </tr>\n",
       "  </thead>\n",
       "  <tbody>\n",
       "    <tr>\n",
       "      <th>0</th>\n",
       "      <td>Morgan Wallen</td>\n",
       "      <td>Last Night</td>\n",
       "    </tr>\n",
       "    <tr>\n",
       "      <th>1</th>\n",
       "      <td>Miley Cyrus</td>\n",
       "      <td>Flowers</td>\n",
       "    </tr>\n",
       "    <tr>\n",
       "      <th>2</th>\n",
       "      <td>Luke Combs</td>\n",
       "      <td>Fast Car</td>\n",
       "    </tr>\n",
       "    <tr>\n",
       "      <th>3</th>\n",
       "      <td>Rema &amp; Selena Gomez</td>\n",
       "      <td>Calm Down</td>\n",
       "    </tr>\n",
       "    <tr>\n",
       "      <th>4</th>\n",
       "      <td>Lil Durk Featuring J. Cole</td>\n",
       "      <td>All My Life</td>\n",
       "    </tr>\n",
       "    <tr>\n",
       "      <th>...</th>\n",
       "      <td>...</td>\n",
       "      <td>...</td>\n",
       "    </tr>\n",
       "    <tr>\n",
       "      <th>395</th>\n",
       "      <td>The Beatles</td>\n",
       "      <td>A Day in the Life</td>\n",
       "    </tr>\n",
       "    <tr>\n",
       "      <th>396</th>\n",
       "      <td>Bob Dylan</td>\n",
       "      <td>Like a Rolling Stone</td>\n",
       "    </tr>\n",
       "    <tr>\n",
       "      <th>397</th>\n",
       "      <td>Sam Cooke</td>\n",
       "      <td>A Change Is Gonna Come</td>\n",
       "    </tr>\n",
       "    <tr>\n",
       "      <th>398</th>\n",
       "      <td>The Jackson 5</td>\n",
       "      <td>I Want You Back</td>\n",
       "    </tr>\n",
       "    <tr>\n",
       "      <th>399</th>\n",
       "      <td>The Beach Boys</td>\n",
       "      <td>God Only Knows</td>\n",
       "    </tr>\n",
       "  </tbody>\n",
       "</table>\n",
       "<p>400 rows × 2 columns</p>\n",
       "</div>"
      ],
      "text/plain": [
       "                         artist                   title\n",
       "0                 Morgan Wallen              Last Night\n",
       "1                   Miley Cyrus                 Flowers\n",
       "2                    Luke Combs                Fast Car\n",
       "3           Rema & Selena Gomez               Calm Down\n",
       "4    Lil Durk Featuring J. Cole             All My Life\n",
       "..                          ...                     ...\n",
       "395                 The Beatles       A Day in the Life\n",
       "396                   Bob Dylan    Like a Rolling Stone\n",
       "397                   Sam Cooke  A Change Is Gonna Come\n",
       "398               The Jackson 5         I Want You Back\n",
       "399              The Beach Boys          God Only Knows\n",
       "\n",
       "[400 rows x 2 columns]"
      ]
     },
     "execution_count": 46,
     "metadata": {},
     "output_type": "execute_result"
    }
   ],
   "source": [
    "songs = pd.concat([billboard, rolling_stone, sixties]).reset_index(drop=True)\n",
    "songs"
   ]
  },
  {
   "cell_type": "code",
   "execution_count": 47,
   "id": "ffb4632a",
   "metadata": {},
   "outputs": [
    {
     "data": {
      "text/plain": [
       "False    400\n",
       "dtype: int64"
      ]
     },
     "execution_count": 47,
     "metadata": {},
     "output_type": "execute_result"
    }
   ],
   "source": [
    "# Check for duplicates\n",
    "\n",
    "songs.duplicated().value_counts()"
   ]
  },
  {
   "cell_type": "code",
   "execution_count": 48,
   "id": "27f84330",
   "metadata": {},
   "outputs": [],
   "source": [
    "# Save the csv\n",
    "\n",
    "songs.to_csv(\"songs.csv\")"
   ]
  },
  {
   "cell_type": "markdown",
   "id": "a7628a70",
   "metadata": {},
   "source": [
    "### Conclusion\n",
    "We obtained a csv with 400 unique songs (current top 100 songs by Billboard, best 100 songs of 2022 by Rolling Stone, and 200 best songs of the 60s by Pitchfork). <br>\n",
    "Also tried to get the best 100 songs of 2021 by NPR but had problems with the webscrapping."
   ]
  },
  {
   "cell_type": "code",
   "execution_count": null,
   "id": "db191a0b",
   "metadata": {},
   "outputs": [],
   "source": []
  }
 ],
 "metadata": {
  "kernelspec": {
   "display_name": "Python 3 (ipykernel)",
   "language": "python",
   "name": "python3"
  },
  "language_info": {
   "codemirror_mode": {
    "name": "ipython",
    "version": 3
   },
   "file_extension": ".py",
   "mimetype": "text/x-python",
   "name": "python",
   "nbconvert_exporter": "python",
   "pygments_lexer": "ipython3",
   "version": "3.9.13"
  }
 },
 "nbformat": 4,
 "nbformat_minor": 5
}
